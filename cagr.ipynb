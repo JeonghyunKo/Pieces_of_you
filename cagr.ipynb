{
 "cells": [
  {
   "cell_type": "markdown",
   "id": "0d2f0835",
   "metadata": {},
   "source": [
    "- CAGR : 연평균복합성장률\n",
    "- 여러 해 동안의 성장률을 기하평균으로 계산(산술 평균으로 계산하면 결과가 왜곡됨) \n",
    "- 공식 : (최종 Value) / (처음 Value) 의 1/(연수) 제곱 - 1 \n",
    "\n",
    "- [참고] https://www.wallstreetmojo.com/cagr-formula/"
   ]
  },
  {
   "cell_type": "code",
   "execution_count": 7,
   "id": "29f2999b",
   "metadata": {},
   "outputs": [],
   "source": [
    "def CAGR(firstvalue, lastvalue, numberofyears):\n",
    "    cagr = (lastvalue/firstvalue)**(1/numberofyears) - 1\n",
    "    return print(\"CAGR : {:.2%}\".format(cagr))"
   ]
  },
  {
   "cell_type": "code",
   "execution_count": 8,
   "id": "59941bb1",
   "metadata": {},
   "outputs": [
    {
     "name": "stdout",
     "output_type": "stream",
     "text": [
      "CAGR : 14.87%\n"
     ]
    }
   ],
   "source": [
    "CAGR(1000, 2000, 5)"
   ]
  },
  {
   "cell_type": "code",
   "execution_count": null,
   "id": "ef6067b1",
   "metadata": {},
   "outputs": [],
   "source": [
    "def CAGR(beginning, ending, numberofyears):\n",
    "    \"\"\"\n",
    "    beginning = 최초의 값\n",
    "    ending = 최종의 값\n",
    "    numberofyears = 연수\n",
    "    \"\"\"\n",
    "    cagr = (ending/beginning)**(1/numberofyears) - 1\n",
    "    return print(\"CAGR : {:.2%}\".format(cagr))"
   ]
  }
 ],
 "metadata": {
  "kernelspec": {
   "display_name": "Python 3.8.6 64-bit ('m1': conda)",
   "language": "python",
   "name": "python386jvsc74a57bd07918b9be9029ed4a26abb1e3f55c1f59c9a25fcca3de584c39fa0974acb148d7"
  },
  "language_info": {
   "codemirror_mode": {
    "name": "ipython",
    "version": 3
   },
   "file_extension": ".py",
   "mimetype": "text/x-python",
   "name": "python",
   "nbconvert_exporter": "python",
   "pygments_lexer": "ipython3",
   "version": "3.8.10"
  }
 },
 "nbformat": 4,
 "nbformat_minor": 5
}
